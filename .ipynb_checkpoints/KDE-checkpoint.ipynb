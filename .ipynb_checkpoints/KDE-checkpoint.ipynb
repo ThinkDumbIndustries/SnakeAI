{
 "cells": [
  {
   "cell_type": "code",
   "execution_count": 93,
   "id": "a2619ba8-d928-4b07-9965-af6138479b21",
   "metadata": {
    "tags": []
   },
   "outputs": [
    {
     "name": "stdout",
     "output_type": "stream",
     "text": [
      "10217\n",
      "16322\n",
      "(10217,)\n",
      "(16322,)\n"
     ]
    },
    {
     "data": {
      "image/png": "[encoded data removed]",
      "text/plain": [
       "<Figure size 432x288 with 1 Axes>"
      ]
     },
     "metadata": {
      "needs_background": "light"
     },
     "output_type": "display_data"
    }
   ],
   "source": [
    "%matplotlib inline\n",
    "import matplotlib.pyplot as plt\n",
    "import numpy as np\n",
    "from scipy.stats import norm\n",
    "from scipy.stats import gaussian_kde\n",
    "files = [\n",
    "    '/Users/maximilientirard/Documents/Processing/SnakeAI/game_lengths_fixedHamiltonianPath.txt',\n",
    "    '/Users/maximilientirard/Documents/Processing/SnakeAI/game_lengths_HamiltonianPath2.txt'\n",
    "]\n",
    "datas = []\n",
    "min_val = None\n",
    "max_val = None\n",
    "for file in files:\n",
    "    with open(file) as f:\n",
    "        content = f.readlines()\n",
    "    data = [int(x.strip()) for x in content]\n",
    "    datas.append(data)\n",
    "    if min_val is None:\n",
    "        min_val = min(data)\n",
    "    else:\n",
    "        min_val = min(min(data), min_val)\n",
    "    if max_val is None:\n",
    "        max_val = max(data)\n",
    "    else:\n",
    "        max_val = max(max(data), max_val)\n",
    "    print(len(data))\n",
    "xs = np.linspace(min_val, max_val,1000)\n",
    "for data in datas:\n",
    "    print(np.shape(data))\n",
    "    density = gaussian_kde(data)\n",
    "    #density.covariance_factor = lambda : 0.25\n",
    "    #density._compute_covariance()\n",
    "    plt.plot(density(xs), xs)\n",
    "    #plt.plot(xs,norm.pdf(xs, np.mean(data), np.std(data, ddof=1)))\n",
    "plt.rcParams[\"figure.figsize\"] = (4,6)\n",
    "plt.show()"
   ]
  },
  {
   "cell_type": "code",
   "execution_count": null,
   "id": "49fc168b-bd41-4578-98a4-0057f963d455",
   "metadata": {
    "tags": []
   },
   "outputs": [],
   "source": []
  },
  {
   "cell_type": "code",
   "execution_count": 2,
   "id": "1af96b24-4989-4f8e-a9ed-739cf27eefeb",
   "metadata": {},
   "outputs": [
    {
     "data": {
      "application/vnd.jupyter.widget-view+json": {
       "model_id": "54417e2c8a0146d39d3a91dc1b5251dd",
       "version_major": 2,
       "version_minor": 0
      },
      "text/plain": [
       "Canvas(toolbar=Toolbar(toolitems=[('Home', 'Reset original view', 'home', 'home'), ('Back', 'Back to previous …"
      ]
     },
     "metadata": {},
     "output_type": "display_data"
    }
   ],
   "source": [
    "%matplotlib widget\n",
    "import numpy as np\n",
    "import matplotlib.pyplot as plt\n",
    "from matplotlib.widgets import Slider, Button\n",
    "\n",
    "\n",
    "# The parametrized function to be plotted\n",
    "def f(t, amplitude, frequency):\n",
    "    return amplitude * np.sin(2 * np.pi * frequency * t)\n",
    "\n",
    "t = np.linspace(0, 1, 1000)\n",
    "\n",
    "# Define initial parameters\n",
    "init_amplitude = 5\n",
    "init_frequency = 3\n",
    "\n",
    "# Create the figure and the line that we will manipulate\n",
    "fig, ax = plt.subplots()\n",
    "line, = plt.plot(t, f(t, init_amplitude, init_frequency), lw=2)\n",
    "ax.set_xlabel('Time [s]')\n",
    "\n",
    "axcolor = 'lightgoldenrodyellow'\n",
    "ax.margins(x=0)\n",
    "\n",
    "# adjust the main plot to make room for the sliders\n",
    "plt.subplots_adjust(left=0.25, bottom=0.25)\n",
    "\n",
    "# Make a horizontal slider to control the frequency.\n",
    "axfreq = plt.axes([0.25, 0.1, 0.65, 0.03], facecolor=axcolor)\n",
    "freq_slider = Slider(\n",
    "    ax=axfreq,\n",
    "    label='Frequency [Hz]',\n",
    "    valmin=0.1,\n",
    "    valmax=30,\n",
    "    valinit=init_frequency,\n",
    ")\n",
    "\n",
    "# Make a vertically oriented slider to control the amplitude\n",
    "axamp = plt.axes([0.1, 0.25, 0.0225, 0.63], facecolor=axcolor)\n",
    "amp_slider = Slider(\n",
    "    ax=axamp,\n",
    "    label=\"Amplitude\",\n",
    "    valmin=0,\n",
    "    valmax=10,\n",
    "    valinit=init_amplitude,\n",
    "    orientation=\"vertical\"\n",
    ")\n",
    "\n",
    "\n",
    "# The function to be called anytime a slider's value changes\n",
    "def update(val):\n",
    "    line.set_ydata(f(t, amp_slider.val, freq_slider.val))\n",
    "    fig.canvas.draw_idle()\n",
    "\n",
    "\n",
    "# register the update function with each slider\n",
    "freq_slider.on_changed(update)\n",
    "amp_slider.on_changed(update)\n",
    "\n",
    "# Create a `matplotlib.widgets.Button` to reset the sliders to initial values.\n",
    "resetax = plt.axes([0.8, 0.025, 0.1, 0.04])\n",
    "button = Button(resetax, 'Reset', color=axcolor, hovercolor='0.975')\n",
    "\n",
    "\n",
    "def reset(event):\n",
    "    freq_slider.reset()\n",
    "    amp_slider.reset()\n",
    "button.on_clicked(reset)\n",
    "\n",
    "plt.show()"
   ]
  },
  {
   "cell_type": "code",
   "execution_count": 252,
   "id": "483cef0c-1169-4592-a68b-bf8ef3458936",
   "metadata": {
    "tags": []
   },
   "outputs": [],
   "source": [
    "import matplotlib.pyplot as plt\n",
    "import numpy as np\n",
    "from scipy.stats import norm\n",
    "from scipy.stats import gaussian_kde\n",
    "files = [\n",
    "    '/Users/maximilientirard/Documents/Processing/SnakeAI/policy1.txt',\n",
    "    '/Users/maximilientirard/Documents/Processing/SnakeAI/policy2.txt'\n",
    "]\n",
    "densities = [[] for j in range(898)]\n",
    "for file in files:\n",
    "    with open(file) as f:\n",
    "        content = f.readlines()\n",
    "    lines = [x.strip() for x in content]\n",
    "    deltas = [ [] for _ in range(899) ]\n",
    "    for line in lines:\n",
    "        times = [int(x.strip()) for x in line.split()]\n",
    "        times.insert(0, 0)\n",
    "        for i in range(899):\n",
    "            deltas[i].append(times[i+1]-times[i])\n",
    "    for i in range(898):\n",
    "        densities[i].append(gaussian_kde(deltas[i]))"
   ]
  },
  {
   "cell_type": "code",
   "execution_count": null,
   "id": "bfa6b45e-f06f-41d1-b4d0-bd4f9df0307d",
   "metadata": {},
   "outputs": [],
   "source": [
    "#%matplotlib widget\n",
    "\n",
    "min_val = 0\n",
    "max_val = 1000\n",
    "xs = np.linspace(min_val, max_val,200)\n",
    "\n",
    "#fig, ax = plt.subplots()\n",
    "#plt.subplots_adjust(bottom=0.25)\n",
    "#fig,(ax0, ax1) = plt.subplots(2, 1)\n",
    "#axis.margins(x=0)\n",
    "\n",
    "#slider_ax = plt.axes([0.2, 0.1, 0.7, 0.03])\n",
    "#food_slider = Slider(slider_ax, '#Food', 0, 898, valstep=1)\n",
    "\n",
    "#print(np.shape(densities))\n",
    "\n",
    "#l, = plt.plot(xs, densities[30](xs))\n",
    "#for density in densities[0]:\n",
    "#    ax.plot(xs, density(xs))\n",
    "#l, = ax.plot(xs, densities[30](xs))\n",
    "#ax.plot(xs, densities[0](xs))\n",
    "#ax.plot(xs, densities[897](xs))\n",
    "\n",
    "#def update(val):\n",
    "#    ax.clf()\n",
    "#    for density in densities[val]:\n",
    "#        ax.plot(xs, density(xs))\n",
    "    #ax.plot(xs, densities[val](xs))\n",
    "#food_slider.on_changed(update)\n",
    "\n",
    "#ax0.rcParams[\"figure.figsize\"] = (9,6)\n",
    "#ax1.rcParams[\"figure.figsize\"] = (9,2)\n",
    "#plt.show()\n",
    "\n",
    "for i in range(4):\n",
    "    #plt.clf()\n",
    "    for density in densities[i]:\n",
    "        plt.plot(xs, density(xs))\n",
    "    #plt.savefig(\"plots/i.png\")\n",
    "plt.show()"
   ]
  },
  {
   "cell_type": "code",
   "execution_count": null,
   "id": "ff3bf374-99f9-4c40-aa7a-97d0d91bf997",
   "metadata": {},
   "outputs": [],
   "source": []
  }
 ],
 "metadata": {
  "kernelspec": {
   "display_name": "Python 3 (ipykernel)",
   "language": "python",
   "name": "python3"
  },
  "language_info": {
   "codemirror_mode": {
    "name": "ipython",
    "version": 3
   },
   "file_extension": ".py",
   "mimetype": "text/x-python",
   "name": "python",
   "nbconvert_exporter": "python",
   "pygments_lexer": "ipython3",
   "version": "3.7.3"
  }
 },
 "nbformat": 4,
 "nbformat_minor": 5
}
