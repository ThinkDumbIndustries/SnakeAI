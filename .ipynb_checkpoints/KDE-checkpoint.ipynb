{
 "cells": [
  {
   "cell_type": "code",
   "execution_count": 1,
   "id": "a2619ba8-d928-4b07-9965-af6138479b21",
   "metadata": {
    "tags": []
   },
   "outputs": [
    {
     "ename": "SyntaxError",
     "evalue": "invalid syntax (3466940719.py, line 13)",
     "output_type": "error",
     "traceback": [
      "\u001b[0;36m  File \u001b[0;32m\"/var/folders/zw/pvnfx1yd0jj2_8lylrs7qw9r0000gn/T/ipykernel_6138/3466940719.py\"\u001b[0;36m, line \u001b[0;32m13\u001b[0m\n\u001b[0;31m    plt.plot(xs,norm.pdf(xs np.mean(data), np.std(data, ddof=1))\u001b[0m\n\u001b[0m                             ^\u001b[0m\n\u001b[0;31mSyntaxError\u001b[0m\u001b[0;31m:\u001b[0m invalid syntax\n"
     ]
    }
   ],
   "source": [
    "import matplotlib.pyplot as plt\n",
    "import numpy as np\n",
    "from scipy.stats import norm\n",
    "from scipy.stats import gaussian_kde\n",
    "with open(\"/Users/maximilientirard/Documents/Processing/SnakeAI/game_lengths_fixedHamiltonianPath.txt\") as f:\n",
    "    content = f.readlines()\n",
    "data = [int(x.strip()) for x in content]\n",
    "density = gaussian_kde(data)\n",
    "xs = np.linspace(min(data),max(data),len(data))\n",
    "#density.covariance_factor = lambda : 2.25\n",
    "#density._compute_covariance()\n",
    "plt.plot(xs,density(xs))\n",
    "plt.plot(xs,norm.pdf(xs, np.mean(data), np.std(data, ddof=1))\n",
    "plt.show()"
   ]
  },
  {
   "cell_type": "code",
   "execution_count": null,
   "id": "49fc168b-bd41-4578-98a4-0057f963d455",
   "metadata": {
    "jupyter": {
     "source_hidden": true
    },
    "tags": []
   },
   "outputs": [],
   "source": []
  }
 ],
 "metadata": {
  "kernelspec": {
   "display_name": "Python 3 (ipykernel)",
   "language": "python",
   "name": "python3"
  },
  "language_info": {
   "codemirror_mode": {
    "name": "ipython",
    "version": 3
   },
   "file_extension": ".py",
   "mimetype": "text/x-python",
   "name": "python",
   "nbconvert_exporter": "python",
   "pygments_lexer": "ipython3",
   "version": "3.7.3"
  }
 },
 "nbformat": 4,
 "nbformat_minor": 5
}
