{
 "cells": [
  {
   "cell_type": "code",
   "execution_count": 1,
   "id": "d1071348-a6f5-4d8d-b6d7-e214790033b2",
   "metadata": {},
   "outputs": [
    {
     "data": {
      "text/plain": [
       "'oops actually I got rid of it all haha'"
      ]
     },
     "execution_count": 1,
     "metadata": {},
     "output_type": "execute_result"
    }
   ],
   "source": [
    "\"oops actually I got rid of it all haha\""
   ]
  },
  {
   "cell_type": "code",
   "execution_count": null,
   "id": "ceaddbec-1291-4c02-a33f-052698b74399",
   "metadata": {},
   "outputs": [],
   "source": []
  }
 ],
 "metadata": {
  "kernelspec": {
   "display_name": "Python 3 (ipykernel)",
   "language": "python",
   "name": "python3"
  },
  "language_info": {
   "codemirror_mode": {
    "name": "ipython",
    "version": 3
   },
   "file_extension": ".py",
   "mimetype": "text/x-python",
   "name": "python",
   "nbconvert_exporter": "python",
   "pygments_lexer": "ipython3",
   "version": "3.7.3"
  }
 },
 "nbformat": 4,
 "nbformat_minor": 5
}
